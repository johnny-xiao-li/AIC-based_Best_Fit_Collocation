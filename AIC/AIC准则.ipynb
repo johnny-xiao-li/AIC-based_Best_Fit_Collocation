{
 "cells": [
  {
   "cell_type": "markdown",
   "metadata": {},
   "source": [
    "# Tittle：AIC 准则"
   ]
  },
  {
   "cell_type": "markdown",
   "metadata": {},
   "source": [
    "Author：马🍆的baba - Xiao Li"
   ]
  },
  {
   "cell_type": "markdown",
   "metadata": {},
   "source": [
    "## Libraries"
   ]
  },
  {
   "cell_type": "code",
   "execution_count": 1,
   "metadata": {
    "scrolled": true
   },
   "outputs": [],
   "source": [
    "import numpy as np\n",
    "import pandas as pd\n",
    "import itertools\n",
    "import math\n",
    "import statsmodels.api as sm"
   ]
  },
  {
   "cell_type": "markdown",
   "metadata": {},
   "source": [
    "## Import data"
   ]
  },
  {
   "cell_type": "code",
   "execution_count": 2,
   "metadata": {},
   "outputs": [],
   "source": [
    "excel_reader = pd.ExcelFile('论文用数据 1.xlsx')\n",
    "\n",
    "df_gdp = excel_reader.parse(sheet_name = 'GDP%')\n",
    "df_cons = excel_reader.parse(sheet_name = '消费%')\n",
    "df_exp = excel_reader.parse(sheet_name = '出口%')\n",
    "df_imp = excel_reader.parse(sheet_name = '进口%')\n",
    "df_inv = excel_reader.parse(sheet_name = '资本%')\n",
    "\n",
    "num_year = 17"
   ]
  },
  {
   "cell_type": "markdown",
   "metadata": {},
   "source": [
    "## AIC Calculate"
   ]
  },
  {
   "cell_type": "code",
   "execution_count": 3,
   "metadata": {},
   "outputs": [],
   "source": [
    "def get_aic(X, y):\n",
    "    X = sm.add_constant(X)\n",
    "    model = sm.OLS(y, X)\n",
    "    results = model.fit()\n",
    "    return results.aic"
   ]
  },
  {
   "cell_type": "code",
   "execution_count": 4,
   "metadata": {},
   "outputs": [],
   "source": [
    "def get_combine(df, length):\n",
    "    df = df.iloc[:length,:]\n",
    "    name_list = list(df)\n",
    "    name_list.remove('year')\n",
    "    name_list.remove('China')\n",
    "    y = np.array(df.iloc[:, 1:2])\n",
    "    \n",
    "    min_aic = 10000\n",
    "    combine = []\n",
    "\n",
    "    for i in range(len(name_list)):    # 当前有多少国家组合\n",
    "        l = list(itertools.combinations(name_list,i+1))\n",
    "        for j in l:\n",
    "            X = np.array(df[list(j)])\n",
    "            aic = get_aic(X, y)\n",
    "            if  aic < min_aic:\n",
    "                min_aic = aic\n",
    "                combine = list(j)\n",
    "    print(\"AIC: \", min_aic)\n",
    "    print(\"Combination: \", combine)"
   ]
  },
  {
   "cell_type": "markdown",
   "metadata": {},
   "source": [
    "## Results"
   ]
  },
  {
   "cell_type": "code",
   "execution_count": 5,
   "metadata": {},
   "outputs": [
    {
     "name": "stdout",
     "output_type": "stream",
     "text": [
      "AIC:  132.06404543269272\n",
      "Combination:  ['Korea', 'Canada', 'France', 'Singapore']\n"
     ]
    }
   ],
   "source": [
    "# 实际GDP\n",
    "get_combine(df_gdp, num_year)"
   ]
  },
  {
   "cell_type": "code",
   "execution_count": 6,
   "metadata": {},
   "outputs": [
    {
     "name": "stdout",
     "output_type": "stream",
     "text": [
      "AIC:  94.1140234773323\n",
      "Combination:  ['Japan', 'Korea', 'USA', 'Australia', 'France', 'Singapore', 'Thailand', 'Malaysia']\n"
     ]
    }
   ],
   "source": [
    "# 实际消费\n",
    "get_combine(df_cons, num_year)"
   ]
  },
  {
   "cell_type": "code",
   "execution_count": 7,
   "metadata": {},
   "outputs": [
    {
     "name": "stdout",
     "output_type": "stream",
     "text": [
      "AIC:  131.4224731991254\n",
      "Combination:  ['Japan', 'Korea', 'USA', 'Canada', 'India', 'Thailand', 'Malaysia']\n"
     ]
    }
   ],
   "source": [
    "# 出口\n",
    "get_combine(df_exp, num_year)"
   ]
  },
  {
   "cell_type": "code",
   "execution_count": 8,
   "metadata": {},
   "outputs": [
    {
     "name": "stdout",
     "output_type": "stream",
     "text": [
      "AIC:  152.44979872633343\n",
      "Combination:  ['Korea', 'Australia', 'Canada', 'Singapore', 'Philippines', 'Malaysia']\n"
     ]
    }
   ],
   "source": [
    "# 进口\n",
    "get_combine(df_imp, num_year)"
   ]
  },
  {
   "cell_type": "code",
   "execution_count": 9,
   "metadata": {},
   "outputs": [
    {
     "name": "stdout",
     "output_type": "stream",
     "text": [
      "AIC:  152.50891400058842\n",
      "Combination:  ['Canada']\n"
     ]
    }
   ],
   "source": [
    "# 固定资本\n",
    "get_combine(df_inv, num_year)"
   ]
  }
 ],
 "metadata": {
  "kernelspec": {
   "display_name": "Python 3",
   "language": "python",
   "name": "python3"
  },
  "language_info": {
   "codemirror_mode": {
    "name": "ipython",
    "version": 3
   },
   "file_extension": ".py",
   "mimetype": "text/x-python",
   "name": "python",
   "nbconvert_exporter": "python",
   "pygments_lexer": "ipython3",
   "version": "3.7.4"
  }
 },
 "nbformat": 4,
 "nbformat_minor": 4
}
